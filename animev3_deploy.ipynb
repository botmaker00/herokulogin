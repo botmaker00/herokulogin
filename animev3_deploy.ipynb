#@title <center><h3>***WZML-X Repo Config Setup***</h3></center><br>

#@markdown ---
App_Name = "" #@param {type:"string"}
#@markdown <h6>( <b>Note:</b> <i>Config Setup for this App Name, Change the App Name for every Config Save!</i> )</h6>

#@markdown ---
#@markdown #### ***Repository URL for Cloning***
REPO_URL = "" #@param {type:"string"}
#@markdown <h6>( <b>Note:</b> <i>Provide the repository URL to clone, e.g., https://github.com/abhiadi23/Auto-Rename-Bot-added</i> )</h6>

#@markdown #### ***Fill all these Variables for the `config.py`*** **(All are Mandatory if no other config method is used)**
BOT_TOKEN = ""  # @param {type:"string"}
API_ID = 0  # @param {type:"integer"}
API_HASH = ""  # @param {type:"string"}
ADMINS = 0  # @param {type:"integer"}
UPSTREAM_REPO = "https://github.com/botmaker00/audioremover"  # @param {type:"string"}
UPSTREAM_BRANCH = "wzv3"  # @param {type:"string"}
DB_URI = ""  # @param {type:"string"}
BASE_URL = ""  # @param {type:"string"}

#@markdown ---
#@markdown ### ***OR***
CONF_GIST_URL = "" # @param {type:"string"}
#@markdown <h6><i>(If you want to Upload `config.py` via `gist.github.com`, Provide the gist URL, Always make Private gist)</i></h6>

#@markdown ---
#@markdown ### ***OR***
Upload_Config = False # @param {type:"boolean"}
#@markdown <h6><i>(If you want to Upload `config.py` file Externally, Tick the Above CheckBox)</i></h6>

#@markdown ---
#@markdown ### ***OR***
Upload_Env = False # @param {type:"boolean"}
#@markdown <h6><i>(If you want to Upload `.env` file Externally, Tick the Above CheckBox)</i></h6>

#@markdown ---
#@markdown ### ***Additional Options***
Modify_Pkgs = "" #@param ["pyrogram==2.0.77", "pyrogram==2.0.106", "bs4, aiohttp, cfscr"] {allow-input: true, type:"string"}
Remove_Pkgs = "" #@param ["pyrogram"] {allow-input: true, type:"string"}
#@markdown <h6><i>(If you want to edit requirements.txt custom, separated via ", " (comma) for multiple)</i></h6>

#@markdown ---

if not App_Name and not Upload_Config and not Upload_Env and not CONF_GIST_URL and not all([BOT_TOKEN, API_ID, API_HASH, ADMINS, UPSTREAM_REPO, DB_URI, BASE_URL]):
    raise ValueError("Please fill in all Mandatory Variables or select a config upload method.")

if not REPO_URL:
    raise ValueError("Please provide a valid Repository URL.")

from os import path, remove

if path.isdir(App_Name):
    !rm -rf $App_Name

!git clone $REPO_URL $App_Name
%cd $App_Name

for file in ["README.md", "animev3_deploy.ipynb"]:
    if path.isfile(file):
        remove(file)

if Upload_Config:
    from google.colab import files
    config_creds = list(files.upload().values())[0]
    with open("config.py", "wb") as config_file:
        config_file.write(config_creds)
    print("config.py File Uploaded and Saved Successfully")
elif Upload_Env:
    from google.colab import files
    env_creds = list(files.upload().values())[0]
    with open(".env", "wb") as env_file:
        env_file.write(env_creds)
    print(".env File Uploaded and Saved Successfully")
elif CONF_GIST_URL:
    !curl -o "config.py" $CONF_GIST_URL
    print("config.py File Extracted and Saved Successfully")
elif all([BOT_TOKEN, API_ID, API_HASH, ADMINS, UPSTREAM_REPO, DB_URI, BASE_URL]):
    config_creds = f'BOT_TOKEN = "{BOT_TOKEN}"\n' \
                   f'API_ID = {API_ID}\n' \
                   f'API_HASH = "{API_HASH}"\n' \
                   f'ADMINS = {ADMINS}\n' \
                   f'UPSTREAM_REPO = "{UPSTREAM_REPO}"\n' \
                   f'UPSTREAM_BRANCH = "{UPSTREAM_BRANCH}"\n' \
                   f'DB_URI = "{DB_URI}"\n' \
                   f'BASE_URL = "{BASE_URL}"\n'

    with open("config.py", "wb") as config_file:
        config_file.write(config_creds.encode())
    print("config.py File made and Saved Successfully")

if Modify_Pkgs:
    from re import split as rsplit, escape
    edit_pkgs = [pkg.strip() for pkg in Modify_Pkgs.split(',')]
    rm_pkgs = [pkg.strip() for pkg in Remove_Pkgs.split(',')]

    with open("requirements.txt", "r") as req_file:
        contents = req_file.readlines()

    for i, line in enumerate(contents):
        for pkg in rm_pkgs:
            if line.startswith(pkg.lower()):
                del contents[i]
                rm_pkgs.remove(pkg)
                break

    if len(rm_pkgs) != 0:
        print(f"Following Packages Not Found: {', '.join(rm_pkgs)}")

    for i, line in enumerate(contents):
        for pkg in edit_pkgs:
            if line.startswith(rsplit('|'.join(map(escape, ['==', '>=', '<=', '~='])), pkg)[0]):
                contents[i] = f"{pkg}\n"
                edit_pkgs.remove(pkg)

    if len(edit_pkgs) != 0:
        contents.extend([f"{pkg}\n" for pkg in edit_pkgs])

    with open("requirements.txt", "w") as req_file:
        req_file.writelines(contents)
    print(f"requirements.txt file is Updated: {Modify_Pkgs}")

%cd ..

print("All Available Config Bot Names Saved:")
!ls
